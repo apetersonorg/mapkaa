{
 "cells": [
  {
   "cell_type": "code",
   "execution_count": 179,
   "metadata": {},
   "outputs": [],
   "source": [
    "import numpy as np\n",
    "import copy"
   ]
  },
  {
   "cell_type": "code",
   "execution_count": 180,
   "metadata": {},
   "outputs": [],
   "source": [
    "def load_txt_to_2d_array(file_path):\n",
    "    with open(file_path, 'r') as file:\n",
    "        array_2d = [list(line.strip('\\n')) for line in file]\n",
    "    return array_2d\n",
    "\n",
    "file_path = \"./mapka.txt\"\n",
    "array = load_txt_to_2d_array(file_path)\n",
    "nparr=np.array(array)\n",
    "lines=len(array)\n",
    "columns=len(array[0])"
   ]
  },
  {
   "cell_type": "code",
   "execution_count": 181,
   "metadata": {},
   "outputs": [],
   "source": [
    "def check(rdk, slp, dig_cnt):\n",
    "    c_rdk=1\n",
    "    \n",
    "    if (slp-dig_cnt)>0:\n",
    "        r_l=slp-dig_cnt-1\n",
    "        c_l=1\n",
    "        c_r=dig_cnt+1\n",
    "    else:\n",
    "        r_l=0\n",
    "        c_l=0\n",
    "        c_r=dig_cnt\n",
    "\n",
    "    if slp==columns:\n",
    "        r_r=columns\n",
    "    else:\n",
    "        r_r=slp+1\n",
    "\n",
    "    if rdk>0:\n",
    "        r_t=rdk-1\n",
    "    else:\n",
    "        r_t=0\n",
    "        c_rdk=0\n",
    "\n",
    "    if (lines-rdk)>1:\n",
    "        r_b=rdk+2\n",
    "    else:\n",
    "        r_b=rdk+1\n",
    "\n",
    "    test_m=copy.deepcopy(nparr[r_t:r_b, r_l:r_r])   \n",
    "    test_m=test_m!=\".\"\n",
    "    for h in range(c_l, c_r):\n",
    "        test_m[c_rdk, h]=False\n",
    "        \n",
    "    if np.any(test_m):\n",
    "        s=''.join(array[rdk][slp-dig_cnt:slp])\n",
    "    else:\n",
    "        s=0\n",
    "    return int(s)"
   ]
  },
  {
   "cell_type": "code",
   "execution_count": 182,
   "metadata": {},
   "outputs": [
    {
     "name": "stdout",
     "output_type": "stream",
     "text": [
      "557705\n"
     ]
    }
   ],
   "source": [
    "dig_cnt=0\n",
    "suma=0\n",
    "\n",
    "for k in range(lines):\n",
    "    for m in range(columns):\n",
    "        if array[k][m].isdigit():\n",
    "            dig_cnt+=1\n",
    "        else:\n",
    "            if dig_cnt>0:\n",
    "                suma+=check(k, m, dig_cnt)\n",
    "                dig_cnt=0\n",
    "        if (m==columns-1)&(dig_cnt>0):\n",
    "            suma+=check(k, columns, dig_cnt)\n",
    "            dig_cnt=0\n",
    "           \n",
    "print(suma)"
   ]
  },
  {
   "cell_type": "code",
   "execution_count": null,
   "metadata": {},
   "outputs": [],
   "source": []
  }
 ],
 "metadata": {
  "kernelspec": {
   "display_name": "Python 3 (ipykernel)",
   "language": "python",
   "name": "python3"
  },
  "language_info": {
   "codemirror_mode": {
    "name": "ipython",
    "version": 3
   },
   "file_extension": ".py",
   "mimetype": "text/x-python",
   "name": "python",
   "nbconvert_exporter": "python",
   "pygments_lexer": "ipython3",
   "version": "3.12.8"
  }
 },
 "nbformat": 4,
 "nbformat_minor": 4
}
